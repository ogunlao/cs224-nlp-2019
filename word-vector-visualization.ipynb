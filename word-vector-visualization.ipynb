{
 "cells": [
  {
   "cell_type": "markdown",
   "metadata": {},
   "source": [
    "### Pre-requisites\n",
    "\n",
    "Install gensim using the following command\n",
    "\n",
    "```pip install -U gensim```"
   ]
  },
  {
   "cell_type": "markdown",
   "metadata": {},
   "source": [
    "### Overview"
   ]
  },
  {
   "cell_type": "markdown",
   "metadata": {},
   "source": [
    "***Gensim***: It isn't really a deep learning package. It's a package for word and text similarity modeling, which started with Latent Dirichlet Allocation (LDA-style) topic models and grew into SVD and neural word representations. But its efficient and scalable, and quite widely used.\n",
    "\n",
    "https://pypi.org/project/gensim/\n",
    "\n",
    "***Note***: In the notebook the word \"word vector\" and \"embeddings\" have been used inter-changeably."
   ]
  },
  {
   "cell_type": "code",
   "execution_count": 1,
   "metadata": {},
   "outputs": [],
   "source": [
    "# Import libraries\n",
    "import numpy as np\n",
    "\n",
    "# Get the interactive Tools for Matplotlib\n",
    "%matplotlib inline\n",
    "\n",
    "import matplotlib.pyplot as plt\n",
    "plt.style.use('ggplot')\n",
    "\n",
    "from sklearn.decomposition import PCA\n",
    "\n",
    "from gensim.test.utils import datapath, get_tmpfile\n",
    "from gensim.models import KeyedVectors\n",
    "from gensim.scripts.glove2word2vec import glove2word2vec"
   ]
  },
  {
   "cell_type": "markdown",
   "metadata": {},
   "source": [
    "***Glove word vectors***: Stanford offers GloVe word vectors. Gensim doesn't give them first class support, but allows us to convert a file of GloVe vectors into word2vec format. Download the GloVe vectors from https://nlp.stanford.edu/projects/glove/. The stanford Glove vectors comes in 50, 100, 200 and 300 dimensional embeddings."
   ]
  },
  {
   "cell_type": "code",
   "execution_count": 2,
   "metadata": {},
   "outputs": [
    {
     "data": {
      "text/plain": [
       "PosixPath('/home/aims/Projects/nlp-projects/python')"
      ]
     },
     "execution_count": 2,
     "metadata": {},
     "output_type": "execute_result"
    }
   ],
   "source": [
    "import pathlib\n",
    "pathlib.Path.parent\n",
    "pathlib.Path.cwd().parent / 'python' "
   ]
  },
  {
   "cell_type": "code",
   "execution_count": 3,
   "metadata": {},
   "outputs": [
    {
     "data": {
      "text/plain": [
       "(400000, 100)"
      ]
     },
     "execution_count": 3,
     "metadata": {},
     "output_type": "execute_result"
    }
   ],
   "source": [
    "glove_file = datapath(pathlib.Path.cwd().parent / 'glove.6B'/ 'glove.6B.100d.txt')\n",
    "word2vec_glove_file = get_tmpfile('glove.6B.100d.word2vec.txt')\n",
    "glove2word2vec(glove_file, word2vec_glove_file)"
   ]
  },
  {
   "cell_type": "code",
   "execution_count": 4,
   "metadata": {},
   "outputs": [],
   "source": [
    "model = KeyedVectors.load_word2vec_format(word2vec_glove_file)"
   ]
  },
  {
   "cell_type": "code",
   "execution_count": 5,
   "metadata": {},
   "outputs": [
    {
     "data": {
      "text/plain": [
       "[('ghana', 0.7884411811828613),\n",
       " ('angola', 0.7677444815635681),\n",
       " ('nigerian', 0.749350905418396),\n",
       " ('kenya', 0.74388587474823),\n",
       " ('algeria', 0.74196457862854),\n",
       " ('niger', 0.7322003245353699),\n",
       " ('cameroon', 0.7195509672164917),\n",
       " ('zimbabwe', 0.710436224937439),\n",
       " ('zambia', 0.7103115320205688),\n",
       " ('senegal', 0.6981102228164673)]"
      ]
     },
     "execution_count": 5,
     "metadata": {},
     "output_type": "execute_result"
    }
   ],
   "source": [
    "model.most_similar('nigeria')"
   ]
  },
  {
   "cell_type": "code",
   "execution_count": 6,
   "metadata": {},
   "outputs": [
    {
     "data": {
      "text/plain": [
       "[('daughter', 0.9063106775283813),\n",
       " ('wife', 0.9025880694389343),\n",
       " ('grandmother', 0.8934445977210999),\n",
       " ('father', 0.8656661510467529),\n",
       " ('sister', 0.8647424578666687),\n",
       " ('husband', 0.8470972180366516),\n",
       " ('woman', 0.8275688886642456),\n",
       " ('her', 0.825068473815918),\n",
       " ('aunt', 0.8055844306945801),\n",
       " ('daughters', 0.7969927787780762)]"
      ]
     },
     "execution_count": 6,
     "metadata": {},
     "output_type": "execute_result"
    }
   ],
   "source": [
    "model.most_similar('mother')"
   ]
  },
  {
   "cell_type": "code",
   "execution_count": 7,
   "metadata": {},
   "outputs": [
    {
     "data": {
      "text/plain": [
       "[('unix', 0.7451671361923218),\n",
       " ('freebsd', 0.7322854399681091),\n",
       " ('os', 0.7309498190879822),\n",
       " ('ubuntu', 0.6977415084838867),\n",
       " ('kernel', 0.6871894598007202),\n",
       " ('os/2', 0.6783009767532349),\n",
       " ('gnu/linux', 0.6735050678253174),\n",
       " ('desktop', 0.6716502904891968),\n",
       " ('server', 0.6666172742843628),\n",
       " ('open-source', 0.6649784445762634),\n",
       " ('xp', 0.6552406549453735),\n",
       " ('solaris', 0.6454194188117981),\n",
       " ('software', 0.6416986584663391),\n",
       " ('bsd', 0.6415143013000488),\n",
       " ('macintosh', 0.6379666924476624),\n",
       " ('ms-dos', 0.6367701292037964),\n",
       " ('ios', 0.6292221546173096),\n",
       " ('unix-like', 0.6251828074455261),\n",
       " ('android', 0.6236051917076111),\n",
       " ('third-party', 0.6230614185333252)]"
      ]
     },
     "execution_count": 7,
     "metadata": {},
     "output_type": "execute_result"
    }
   ],
   "source": [
    "model.most_similar('linux', topn = 20)"
   ]
  },
  {
   "cell_type": "code",
   "execution_count": 8,
   "metadata": {},
   "outputs": [
    {
     "data": {
      "text/plain": [
       "[('http://www.opel.com', 0.6429437398910522),\n",
       " ('bb94', 0.6249831914901733),\n",
       " ('kd95', 0.6102238893508911),\n",
       " ('kemnay', 0.6060603857040405),\n",
       " ('kanamori', 0.6026533842086792)]"
      ]
     },
     "execution_count": 8,
     "metadata": {},
     "output_type": "execute_result"
    }
   ],
   "source": [
    "model.most_similar(negative='linux', topn=5)"
   ]
  },
  {
   "cell_type": "code",
   "execution_count": 9,
   "metadata": {},
   "outputs": [
    {
     "name": "stdout",
     "output_type": "stream",
     "text": [
      "queen: 0.7699\n"
     ]
    },
    {
     "data": {
      "text/plain": [
       "[('queen', 0.7698541283607483),\n",
       " ('monarch', 0.684337854385376),\n",
       " ('throne', 0.675573468208313),\n",
       " ('daughter', 0.6594556570053101),\n",
       " ('princess', 0.6520534753799438),\n",
       " ('prince', 0.651703417301178),\n",
       " ('elizabeth', 0.6464518308639526),\n",
       " ('mother', 0.6311717629432678),\n",
       " ('emperor', 0.6106470227241516),\n",
       " ('wife', 0.6098655462265015)]"
      ]
     },
     "execution_count": 9,
     "metadata": {},
     "output_type": "execute_result"
    }
   ],
   "source": [
    "result = model.most_similar(positive=['woman', 'king'], negative=['man'])\n",
    "# round off to 4 decimal places\n",
    "print('{}: {:.4f}'.format(*result[0]))\n",
    "result"
   ]
  },
  {
   "cell_type": "code",
   "execution_count": 10,
   "metadata": {},
   "outputs": [],
   "source": [
    "def analogy(x1, x2, y1):\n",
    "    result = model.most_similar(positive=[y1, x2], negative=[x1])\n",
    "    return result[0][0]"
   ]
  },
  {
   "cell_type": "code",
   "execution_count": 11,
   "metadata": {},
   "outputs": [
    {
     "data": {
      "text/plain": [
       "'american'"
      ]
     },
     "execution_count": 11,
     "metadata": {},
     "output_type": "execute_result"
    }
   ],
   "source": [
    "analogy('nigeria', 'nigerian', 'america')"
   ]
  },
  {
   "cell_type": "code",
   "execution_count": 12,
   "metadata": {},
   "outputs": [
    {
     "data": {
      "text/plain": [
       "'champagne'"
      ]
     },
     "execution_count": 12,
     "metadata": {},
     "output_type": "execute_result"
    }
   ],
   "source": [
    "analogy('australia', 'beer', 'france')"
   ]
  },
  {
   "cell_type": "code",
   "execution_count": 13,
   "metadata": {},
   "outputs": [
    {
     "data": {
      "text/plain": [
       "'nixon'"
      ]
     },
     "execution_count": 13,
     "metadata": {},
     "output_type": "execute_result"
    }
   ],
   "source": [
    "analogy('obama', 'clinton', 'reagan')"
   ]
  },
  {
   "cell_type": "code",
   "execution_count": 14,
   "metadata": {},
   "outputs": [
    {
     "data": {
      "text/plain": [
       "'longest'"
      ]
     },
     "execution_count": 14,
     "metadata": {},
     "output_type": "execute_result"
    }
   ],
   "source": [
    "analogy('tall', 'tallest', 'long')"
   ]
  },
  {
   "cell_type": "code",
   "execution_count": 15,
   "metadata": {},
   "outputs": [
    {
     "data": {
      "text/plain": [
       "'books'"
      ]
     },
     "execution_count": 15,
     "metadata": {},
     "output_type": "execute_result"
    }
   ],
   "source": [
    "# Singluar and Plural Analogy\n",
    "analogy('plate', 'plates', 'book')"
   ]
  },
  {
   "cell_type": "code",
   "execution_count": 16,
   "metadata": {},
   "outputs": [
    {
     "name": "stdout",
     "output_type": "stream",
     "text": [
      "cereal\n"
     ]
    },
    {
     "name": "stderr",
     "output_type": "stream",
     "text": [
      "/home/aims/.local/lib/python3.7/site-packages/gensim/models/keyedvectors.py:877: FutureWarning: arrays to stack must be passed as a \"sequence\" type such as list or tuple. Support for non-sequence iterables such as generators is deprecated as of NumPy 1.16 and will raise an error in the future.\n",
      "  vectors = vstack(self.word_vec(word, use_norm=True) for word in used_words).astype(REAL)\n"
     ]
    }
   ],
   "source": [
    "print(model.doesnt_match(\"breakfast cereal dinner lunch\".split()))"
   ]
  },
  {
   "cell_type": "code",
   "execution_count": 17,
   "metadata": {},
   "outputs": [
    {
     "name": "stdout",
     "output_type": "stream",
     "text": [
      "Number of words in the vocabulary: 400000\n",
      "['the', ',', '.', 'of', 'to', 'and', 'in', 'a', '\"', \"'s\", 'for', '-', 'that', 'on', 'is']\n"
     ]
    }
   ],
   "source": [
    "vocab_keys = model.vocab.keys()\n",
    "print('Number of words in the vocabulary: {}'.format(len(list(vocab_keys))))\n",
    "print(list(vocab_keys)[0:15])"
   ]
  },
  {
   "cell_type": "code",
   "execution_count": 18,
   "metadata": {
    "scrolled": true
   },
   "outputs": [
    {
     "name": "stdout",
     "output_type": "stream",
     "text": [
      "[-0.030769   0.11993    0.53909   -0.43696   -0.73937   -0.15345\n",
      "  0.081126  -0.38559   -0.68797   -0.41632   -0.13183   -0.24922\n",
      "  0.441      0.085919   0.20871   -0.063582   0.062228  -0.051234\n",
      " -0.13398    1.1418     0.036526   0.49029   -0.24567   -0.412\n",
      "  0.12349    0.41336   -0.48397   -0.54243   -0.27787   -0.26015\n",
      " -0.38485    0.78656    0.1023    -0.20712    0.40751    0.32026\n",
      " -0.51052    0.48362   -0.0099498 -0.38685    0.034975  -0.167\n",
      "  0.4237    -0.54164   -0.30323   -0.36983    0.082836  -0.52538\n",
      " -0.064531  -1.398     -0.14873   -0.35327   -0.1118     1.0912\n",
      "  0.095864  -2.8129     0.45238    0.46213    1.6012    -0.20837\n",
      " -0.27377    0.71197   -1.0754    -0.046974   0.67479   -0.065839\n",
      "  0.75824    0.39405    0.15507   -0.64719    0.32796   -0.031748\n",
      "  0.52899   -0.43886    0.67405    0.42136   -0.11981   -0.21777\n",
      " -0.29756   -0.1351     0.59898    0.46529   -0.58258   -0.02323\n",
      " -1.5442     0.01901   -0.015877   0.024499  -0.58017   -0.67659\n",
      " -0.040379  -0.44043    0.083292   0.20035   -0.75499    0.16918\n",
      " -0.26573   -0.52878    0.17584    1.065    ]\n"
     ]
    }
   ],
   "source": [
    "## Access vector for one word \n",
    "print(model['good'])"
   ]
  },
  {
   "cell_type": "markdown",
   "metadata": {},
   "source": [
    "***PCA:*** It is a non-linear dimensionality reduction technique. This is one of the algorithm to visualize the multi-dimensional(300) data (embeddings) into 2D space. For more information about the fit_transform() function used below, please refer - https://scikit-learn.org/stable/modules/generated/sklearn.decomposition.PCA.html"
   ]
  },
  {
   "cell_type": "code",
   "execution_count": 19,
   "metadata": {},
   "outputs": [],
   "source": [
    "def display_pca_scatterplot(model, words=None, sample=0):\n",
    "    if words == None:\n",
    "        if sample > 0:\n",
    "            # list converts dictionary (model.vocab.keys()) into the list of objects\n",
    "            words = np.random.choice(list(model.vocab.keys()), sample)\n",
    "        else:\n",
    "            words = [word for word in model.vocab]\n",
    "            \n",
    "    word_vectors = np.array([model[w] for w in words])\n",
    "    \n",
    "    # Rows is Number of words and column is the embedding dimension(100)\n",
    "    print('word_vectors.shape:', word_vectors.shape)\n",
    "    \n",
    "    transform = PCA().fit_transform(word_vectors)\n",
    "    print('transform.shape: {}'.format(transform.shape))\n",
    "    \n",
    "    # Fetch the first two columns of the matrix\n",
    "    twodim = transform[:,:2]\n",
    "    print('twodim.shape: {}'.format(twodim.shape))\n",
    "    \n",
    "    plt.figure(figsize=(7,7))\n",
    "    \n",
    "    # x axis plots the first column of all the rows \n",
    "    # and y axis plots the second column of all the rows.\n",
    "    plt.scatter(twodim[:, 0], twodim[0:,1], edgecolors='k', c='b')\n",
    "    \n",
    "    for word, (x, y) in zip(words, twodim):\n",
    "        plt.text(x+0.05, y+0.05, word)"
   ]
  },
  {
   "cell_type": "code",
   "execution_count": 20,
   "metadata": {},
   "outputs": [
    {
     "name": "stdout",
     "output_type": "stream",
     "text": [
      "word_vectors.shape: (46, 100)\n",
      "transform.shape: (46, 46)\n",
      "twodim.shape: (46, 2)\n"
     ]
    },
    {
     "data": {
      "image/png": "[encoded data removed]",
      "text/plain": [
       "<Figure size 504x504 with 1 Axes>"
      ]
     },
     "metadata": {
      "needs_background": "light"
     },
     "output_type": "display_data"
    }
   ],
   "source": [
    "display_pca_scatterplot(model,\n",
    "        ['coffee', 'tea', 'beer', 'wine', 'brandy', 'rum', 'champagne', 'water',\n",
    "         'spaghetti', 'borscht', 'hamburger', 'pizza', 'falafel', 'sushi', 'meatballs',\n",
    "         'dog', 'horse', 'cat', 'monkey', 'parrot', 'koala', 'lizard',\n",
    "         'frog', 'toad', 'monkey', 'ape', 'kangaroo', 'wombat', 'wolf',\n",
    "         'france', 'germany', 'hungary', 'luxembourg', 'australia', 'fiji', 'china',\n",
    "         'homework', 'assignment', 'problem', 'exam', 'test', 'class',\n",
    "         'school', 'college', 'university', 'institute'])"
   ]
  },
  {
   "cell_type": "code",
   "execution_count": 21,
   "metadata": {
    "scrolled": true
   },
   "outputs": [
    {
     "name": "stdout",
     "output_type": "stream",
     "text": [
      "word_vectors.shape: (50, 100)\n",
      "transform.shape: (50, 50)\n",
      "twodim.shape: (50, 2)\n"
     ]
    },
    {
     "data": {
      "image/png": "[encoded data removed]",
      "text/plain": [
       "<Figure size 504x504 with 1 Axes>"
      ]
     },
     "metadata": {
      "needs_background": "light"
     },
     "output_type": "display_data"
    }
   ],
   "source": [
    "display_pca_scatterplot(model, sample=50)"
   ]
  },
  {
   "cell_type": "code",
   "execution_count": null,
   "metadata": {},
   "outputs": [],
   "source": []
  }
 ],
 "metadata": {
  "kernelspec": {
   "display_name": "Python 3",
   "language": "python",
   "name": "python3"
  },
  "language_info": {
   "codemirror_mode": {
    "name": "ipython",
    "version": 3
   },
   "file_extension": ".py",
   "mimetype": "text/x-python",
   "name": "python",
   "nbconvert_exporter": "python",
   "pygments_lexer": "ipython3",
   "version": "3.7.3"
  }
 },
 "nbformat": 4,
 "nbformat_minor": 4
}
